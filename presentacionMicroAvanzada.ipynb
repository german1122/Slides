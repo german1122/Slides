{
 "cells": [
  {
   "cell_type": "markdown",
   "metadata": {
    "slideshow": {
     "slide_type": "slide"
    }
   },
   "source": [
    "## Strategic InformationTransmission \n",
    "### Autores: VIncent P. Crawford & Joel Sobel \n",
    "#### Presentan: Carlos Aranda & Germán Villar"
   ]
  },
  {
   "cell_type": "markdown",
   "metadata": {
    "slideshow": {
     "slide_type": "slide"
    }
   },
   "source": [
    "## Motivación del documento de investigación : \n",
    "- Un modelo en el cual emisor mejor informado puede enviar una señal con ruido al receptor para que este tome una decisión sobre el bienestar de ambos. \n",
    "- Explicar por qué  muchas de las dificultades para llegar a un acuerdo son por motivos de información. \n",
    "- Cuando los Agentes estan próximos a generar un acuerdo, existen incetivos para ques estos revelen información que facilite llegar a un acuerdo ventajoso para el agente.   "
   ]
  },
  {
   "cell_type": "markdown",
   "metadata": {
    "slideshow": {
     "slide_type": "slide"
    }
   },
   "source": [
    "# Modelo \n",
    "- Dos jugadores: Un emisor , $S$, y un receptor, $R$,\n",
    "- Sólamante el emisor tiene información privada y observa una variable aleatoria $m$, donde $m$ es diferenciable y tiene tiene una funcion de distribución de probabilidad $F(m)$ y una función e densidad $f(m)$ entre $[0,1]$\n",
    "- El emisor tiene una función de utilidad Von Neumann-Morgesten $U^S (y,m,b)$ la cual es diferenciable dos veces.\n",
    "    - $y$ es una acción\n",
    "    - $b$ es un escalar utilizado para evaluar como los interéses de los agentes divergen\n",
    "    - $m$ es una señal\n",
    "- El receptor, también, tiene una función de Von Neumann-Morgestern  $U^R(y,M)$, la cual es diferenciable dos veces.\n",
    "- Todos  los aspectos del juego son conocidos por ambos jugadores, exceptuando $m$."
   ]
  },
  {
   "cell_type": "markdown",
   "metadata": {
    "slideshow": {
     "slide_type": "subslide"
    }
   },
   "source": [
    " #### Se asume lo siguiente: \n",
    "- $U^i (y,m)=0$ para un determinado $y$ \n",
    "- $U^i_{11}< 0$, por lo que $U^i$ tiene un único máximo. "
   ]
  },
  {
   "cell_type": "markdown",
   "metadata": {
    "slideshow": {
     "slide_type": "slide"
    }
   },
   "source": [
    "### El juego\n",
    "\n",
    "(1) $S$ observa su tipo, $m$, y envía una señal (que puede ser aleatoria) a $R$."
   ]
  },
  {
   "cell_type": "markdown",
   "metadata": {
    "slideshow": {
     "slide_type": "fragment"
    }
   },
   "source": [
    "(2) $R$ procesa la información y toma una decisión, la cual determina los pagos de ambos jugadores. "
   ]
  },
  {
   "cell_type": "markdown",
   "metadata": {
    "slideshow": {
     "slide_type": "fragment"
    }
   },
   "source": [
    "* Aunque la señal de $S$ necesariamente precede la acción de $R$ en el tiempo, como $R$ observa sólo la señal (y no la regla de señalización), la decisión de $S$ y $R$ son estragégicamente \"simultáneas\"."
   ]
  },
  {
   "cell_type": "markdown",
   "metadata": {},
   "source": [
    "### El concepto de equilibrio en este modelo: Equilibrio de Nash Bayesiano de Harsanyi\n",
    "\n",
    "Un equilibrio de Nash en el que se relacionan las decisiones de los agentes con su información y las situaciones en las que encuentran. En equilibrio, los agentes que entienden el jugo extraen toda la información posible de las señales. Es decir, el equilibrio garantiza que las creencias probabilisticas condicionadas de cada agente acerca de las acciones y características del otro son autoconfirmadas. \n"
   ]
  },
  {
   "cell_type": "markdown",
   "metadata": {
    "slideshow": {
     "slide_type": "subslide"
    }
   },
   "source": [
    "Formalmaente, un equilibrio consiste de una familia de reglas de señalización para $S$, denotadas $q(n | m)$, y una regla de decisión para $R$, denotada $y(n)$:\n",
    "\n",
    "(1) Para cada $m \\in [0,1]$, $\\int_N q(n | m)dn = 1$, donde el conjunto de Borel $N$ es el conjunto de señales alcanzables, y si $n^*$ yace en el soporte de q(· |m), entonces $n^*$ resuelve $\\max_{n \\in N} U^S(y(n), m, b);$ y\n",
    "\n",
    "(2) Para cada $n$, $y(n)$ resuelve $\\max_y \\int_0^1 U^R(y, m)p(m | n)dm,$\n",
    "donde $p(m | n) \\equiv \\frac{q(n | m) f(m)}{\\int_0^1 q(n |t)f(t)dt}$"
   ]
  },
  {
   "cell_type": "markdown",
   "metadata": {
    "slideshow": {
     "slide_type": "skip"
    }
   },
   "source": [
    "(Esto lo podemos quitar, pero quien lo diga debe entenderlo muy bien)\n",
    "La condición (1) dice que la regla de señalización de $S$ arroja una acción que maximiza la utilidad esperada para cada uno de sus \"tipos\" de información, tomando la regla de acción de $R$ como dada. "
   ]
  },
  {
   "cell_type": "markdown",
   "metadata": {
    "slideshow": {
     "slide_type": "skip"
    }
   },
   "source": [
    "La condición (2) dice que $R$ responde de manera óptima a cada señal posible mediante la regla de Bayes para actualizar su decisión, tomando en cuenta la estrategia de señalización de $S$ y la señal que recibe. Como $U_{11}^R (·) <0,$ la función objetivo en (2) es estricatmente cóncava en $y$; por tanto, $R$ nunca utilizará estragegias mixtas en equilibrio. Es decir, la decisión de equilibrio de $R$ generalmente crea costos de señalización endógenos, los que permiten equilibrios con un ordenamiento parcial."
   ]
  },
  {
   "cell_type": "markdown",
   "metadata": {
    "slideshow": {
     "slide_type": "slide"
    }
   },
   "source": [
    "## El equilibrio\n",
    "\n",
    "* Decimos que una acción $\\bar{y}$ es inducida por un tipo-S $\\bar{m}$ si $\\int_{\\bar{N}} q(n | \\bar{m})dn >0$. \n",
    "* Si $Y$ es el conjunto de todas las acciones inducidas por algún tipo-S, entonces si $\\bar{m}$ induce $\\bar{y}$, $U^s(\\bar{y}, \\bar{m}, b) = \\max_{y \\in Y}U^s(y, \\bar{m}, b)$\n",
    "* Es decir, como $U^s_{11}(·) <0$, entonces $U^s(y, m, b)$ puede tomar algún valor a lo más para dos valores de $y$. Por tanto, $\\bar{m}$ no puede inducir más de dos acciones en equilibrio. "
   ]
  },
  {
   "cell_type": "markdown",
   "metadata": {
    "slideshow": {
     "slide_type": "slide"
    }
   },
   "source": [
    " \n",
    "#### Lema 1: Sean $y^S(m,b) \\equiv arg max U^S(y, m, b)$ y $y^R(m) \\equiv arg max U^R(y, m)$. Si las acciones $y^S$ y $y^R$  son distintas, entonces existe un $\\epsilon >0$ tal que si $u$ y $v$ son inducidas en equilibrio, $|u-v|\\geq \\epsilon$. Es decir, el conjunto de acciones inducidas en equilibrio es finito. \n",
    "\n",
    "* Lo anterior conlleva a que en equilibrio la señalización es \"ruidosa\", a menos que los intereses de ambos individuos coincidan. "
   ]
  },
  {
   "cell_type": "markdown",
   "metadata": {},
   "source": [
    "#### Teorema 1: Supongamos que $b$ es tal que $y^S(m,b) \\neq y^R(m)$, $\\forall m$. Entonces $\\exists$ $N(b)$: $1\\leq N \\leq N(b)$, $\\forall N$, $\\exists$ al menos un equilbrio $[y(n), q(n | m)]$, donde $q(n | m)$ es uniforme, con soporte $[a_i, a_{i+1}]$ si $m \\in (a_i, a_{i+1})$, \n",
    "\n",
    "(A)$$U^s(\\bar{y}(a_i , a_{i+1}), a_i, b)-U^s(\\bar{y}(a_{i-1},  a_i), a_i, b) = 0,\\quad i = 1, \\ldots, N-1$$\n",
    "\n",
    "(1)$$y(n) = \\bar{y}(a_i, a_{i+1})= \n",
    "   \\begin{cases} \n",
    "      argmax \\int^{a_{i+1}}_{a_i} U^R(y, m)f(m)dm,             & a_{i}< a_{i+1}    \\\\\n",
    "      y^R(a_i),  & a_i = a_{i+1}\n",
    "   \\end{cases} $$\n",
    "(2)$$a_0 = 0$$ y\n",
    "(3)$$a_N = 1.$$"
   ]
  },
  {
   "cell_type": "markdown",
   "metadata": {
    "slideshow": {
     "slide_type": "fragment"
    }
   },
   "source": [
    "* Cuando los intereses de los agentes difieren, todo equilibrio en el modelo será un equilibrio particionado. \n",
    "* El teorema 1 establece la existencia de un equilibrio particionado de cualquier tamaño entre uno (el menos informativo) y $N(b)$ (el más informativo). \n",
    "* Las particiones $a$ son determinadas por (A), condición de arbitraje, ya que asegura que los individuos tipo S que caen en las fronteras entre los pasos $N$ son indiferentes entre valores asociados de $y$. Así, la regla de señalización de $S$ será una mejor respuesta para $y(n)$.\n",
    "* La condición (1) es la obtención de la utilidad esperada del que recibe la información, condicional a escuchar una señal en el paso $(a_i, a_{i+1})$"
   ]
  },
  {
   "cell_type": "markdown",
   "metadata": {},
   "source": [
    " #### Lema 2: \n",
    " Si $V(a_{i-1}, a_i, a_{i+1}, b) \\equiv U^S(\\bar{y}(a_i, a_{i+1}), a_i, b)-U^S(\\bar{y}(a_{i-1}, a_i), a_i, b) = 0$, para $0 \\leq a_{i-1} < a_i < a_{i+1} \\leq 1$, entonces $U_1^S(\\bar{y}(a, a_i), a_i, b) >0$ y $V_1(a, a_i, a_{i+1}, b) <0, \\forall a \\in [0, a_{i-1}]$ y $U_1^S(\\bar{y}(a_i, a), a_i, b) < 0$ y $V_3(a_{i-1}, a_i, a, b) < 0, \\forall a \\in [a_{i+1}, 1]$. Si $V(0, a, 1, b) >0, \\forall a \\in [0,1]$, entonces $N(b) = 1$. Es decir, el equilibrio es no informativo. \n",
    "\n",
    "* Lo anterior es cierto, ya que $\\bar{y}(·)$ es estrictamente creciente en sus dos argumentos.\n",
    "\n",
    "* Que el equilibrio sea no informativo significa que aquel que envía la información ($S$) de tipo $m = 0$ preferiría estar completamente \"disfrazado\" que completamente \"revelado\".\n",
    "\n"
   ]
  },
  {
   "cell_type": "markdown",
   "metadata": {},
   "source": [
    "#### Lema 4: Si dos particiones parciales tienen las mismas esquinas,  la partición más cercana a las preferencias de los agentes comienza con \" pasos\" más grandes. Lo anterior es cierto, ya que la tasa de crecimiento de los tamaños de los pasos incrementa conforme las preferencias divergen. Es decir, \n",
    "$$b'<b \\quad\\&\\quad a_0(K, b) = a_0(K, b') = 0$$  $$\\Longrightarrow a_i(K, b) < a_i(K, b'), \\forall i = 1, \\ldots, K-1$$."
   ]
  },
  {
   "cell_type": "markdown",
   "metadata": {},
   "source": [
    "#### Lema 6: El tamaño de partición máximo posible en equilibrio, $N(b)$, es no creciente en $b$, la diferencia entre las preferencias de los agentes. "
   ]
  },
  {
   "cell_type": "markdown",
   "metadata": {},
   "source": [
    "#### Teorema 3: Para preferencias dadas (i. e., $b$), $R$ siempre prefiere estrictamente un gran número de N's; es decir, particiones en equilibrio con más pasos. \n",
    "* Lo anterior es cierto, ya que más particiones reflejan major información. "
   ]
  },
  {
   "cell_type": "code",
   "execution_count": null,
   "metadata": {
    "collapsed": true
   },
   "outputs": [],
   "source": []
  }
 ],
 "metadata": {
  "celltoolbar": "Slideshow",
  "kernelspec": {
   "display_name": "Python 2",
   "language": "python",
   "name": "python2"
  },
  "language_info": {
   "codemirror_mode": {
    "name": "ipython",
    "version": 2
   },
   "file_extension": ".py",
   "mimetype": "text/x-python",
   "name": "python",
   "nbconvert_exporter": "python",
   "pygments_lexer": "ipython2",
   "version": "2.7.10"
  }
 },
 "nbformat": 4,
 "nbformat_minor": 0
}
